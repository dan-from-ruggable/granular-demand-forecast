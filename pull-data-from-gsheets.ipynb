{
 "cells": [
  {
   "cell_type": "code",
   "execution_count": 2,
   "id": "6e007b41-f5be-463d-b263-3a2aee6cb9c0",
   "metadata": {},
   "outputs": [],
   "source": [
    "library(tidyverse)\n",
    "library(lubridate)\n",
    "library(tsibble)\n",
    "library(googlesheets4)"
   ]
  },
  {
   "cell_type": "code",
   "execution_count": 3,
   "id": "6339d024-1708-4bda-a58c-f3d91f534cda",
   "metadata": {},
   "outputs": [
    {
     "name": "stdout",
     "output_type": "stream",
     "text": [
      "[1] \"current working directory is fine\"\n"
     ]
    }
   ],
   "source": [
    "# setting wd\n",
    "if ( grepl(\"granular-demand-forecast\", getwd(), fixed = TRUE) ) {\n",
    "    print(\"current working directory is fine\")\n",
    "} else {\n",
    "    setwd(\"./projects/granular-demand-forecast\")\n",
    "    print(\"changed working directory\")\n",
    "}"
   ]
  },
  {
   "cell_type": "code",
   "execution_count": 9,
   "id": "12bbf509-bab9-4a1e-9884-7ba6e756760e",
   "metadata": {},
   "outputs": [
    {
     "name": "stderr",
     "output_type": "stream",
     "text": [
      "Auto-refreshing stale OAuth token.\n",
      "\n",
      "Reading from \"Weekly KPI break-down\"\n",
      "\n",
      "Range \"'FORECAST INPUT - Ad Spend'!A3:E158\"\n",
      "\n"
     ]
    }
   ],
   "source": [
    "df_spend <- read_sheet(\"https://docs.google.com/spreadsheets/d/1U2n2gkSR0sEOSexqtRLxCjY5ubC3iwj8ffpoz_PLVV8/edit#gid=1215768885\",\n",
    "                       range = \"FORECAST INPUT - Ad Spend!A3:E158\",\n",
    "                       col_names=TRUE) %>% as_tibble() %>% filter(total_weekly_spend>0) %>% mutate(week_begin_date=as_date(week_begin_date))"
   ]
  },
  {
   "cell_type": "code",
   "execution_count": 10,
   "id": "2a1eb51c-678a-42ac-a8a4-672a4177b484",
   "metadata": {},
   "outputs": [
    {
     "name": "stderr",
     "output_type": "stream",
     "text": [
      "Reading from \"Weekly KPI break-down\"\n",
      "\n",
      "Range \"'FORECAST INPUT - Events'!A1:V1000\"\n",
      "\n"
     ]
    }
   ],
   "source": [
    "df_event <- read_sheet(\"https://docs.google.com/spreadsheets/d/1U2n2gkSR0sEOSexqtRLxCjY5ubC3iwj8ffpoz_PLVV8/edit#gid=1215768885\",\n",
    "                       range = \"FORECAST INPUT - Events!A1:V1000\",\n",
    "                       col_names=TRUE) %>% as_tibble() %>% mutate(week_begin_date=as_date(week_begin_date))"
   ]
  },
  {
   "cell_type": "code",
   "execution_count": 11,
   "id": "a47c9247-905f-4d0a-951e-47fa14ba5ba1",
   "metadata": {},
   "outputs": [],
   "source": [
    "write.csv(df_spend,\"./data/ad_spend.csv\", row.names = FALSE)"
   ]
  },
  {
   "cell_type": "code",
   "execution_count": 12,
   "id": "ff2547d2-861e-47bf-b63c-7104e2d597f0",
   "metadata": {},
   "outputs": [],
   "source": [
    "write.csv(df_event,\"./data/marketing_events.csv\", row.names = FALSE)"
   ]
  },
  {
   "cell_type": "code",
   "execution_count": null,
   "id": "80cb6aa8-6eb7-407e-b95a-6e61a5f48ea0",
   "metadata": {},
   "outputs": [],
   "source": []
  }
 ],
 "metadata": {
  "kernelspec": {
   "display_name": "R",
   "language": "R",
   "name": "ir"
  },
  "language_info": {
   "codemirror_mode": "r",
   "file_extension": ".r",
   "mimetype": "text/x-r-source",
   "name": "R",
   "pygments_lexer": "r",
   "version": "4.0.4"
  }
 },
 "nbformat": 4,
 "nbformat_minor": 5
}
