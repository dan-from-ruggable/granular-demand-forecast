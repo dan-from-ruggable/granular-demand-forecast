{
 "cells": [
  {
   "cell_type": "code",
   "execution_count": 11,
   "id": "6e007b41-f5be-463d-b263-3a2aee6cb9c0",
   "metadata": {},
   "outputs": [],
   "source": [
    "library(tidyverse)\n",
    "library(lubridate)\n",
    "library(tsibble)\n",
    "library(googlesheets4)"
   ]
  },
  {
   "cell_type": "code",
   "execution_count": 12,
   "id": "6339d024-1708-4bda-a58c-f3d91f534cda",
   "metadata": {},
   "outputs": [
    {
     "name": "stdout",
     "output_type": "stream",
     "text": [
      "[1] \"current working directory is fine\"\n"
     ]
    }
   ],
   "source": [
    "# setting wd\n",
    "if ( grepl(\"granular-demand-forecast\", getwd(), fixed = TRUE) ) {\n",
    "    print(\"current working directory is fine\")\n",
    "} else {\n",
    "    setwd(\"./projects/granular-demand-forecast\")\n",
    "    print(\"changed working directory\")\n",
    "}"
   ]
  },
  {
   "cell_type": "code",
   "execution_count": 13,
   "id": "12bbf509-bab9-4a1e-9884-7ba6e756760e",
   "metadata": {},
   "outputs": [
    {
     "name": "stderr",
     "output_type": "stream",
     "text": [
      "Auto-refreshing stale OAuth token.\n",
      "\n",
      "Reading from \"Weekly KPI break-down\"\n",
      "\n",
      "Range \"'FORECAST INPUT - Ad Spend'!A3:B164\"\n",
      "\n"
     ]
    }
   ],
   "source": [
    "df_spend <- read_sheet(\"https://docs.google.com/spreadsheets/d/1U2n2gkSR0sEOSexqtRLxCjY5ubC3iwj8ffpoz_PLVV8/edit#gid=1215768885\",\n",
    "                       range = \"FORECAST INPUT - Ad Spend!A3:B164\",\n",
    "                       col_names=TRUE) %>% as_tibble() %>% filter(total_weekly_spend>0) %>% mutate(week_begin_date=as_date(week_begin_date))"
   ]
  },
  {
   "cell_type": "code",
   "execution_count": 6,
   "id": "2a1eb51c-678a-42ac-a8a4-672a4177b484",
   "metadata": {},
   "outputs": [
    {
     "name": "stderr",
     "output_type": "stream",
     "text": [
      "Reading from \"Weekly KPI break-down\"\n",
      "\n",
      "Range \"'FORECAST INPUT - Events'!A1:V1000\"\n",
      "\n"
     ]
    }
   ],
   "source": [
    "df_event <- read_sheet(\"https://docs.google.com/spreadsheets/d/1U2n2gkSR0sEOSexqtRLxCjY5ubC3iwj8ffpoz_PLVV8/edit#gid=1215768885\",\n",
    "                       range = \"FORECAST INPUT - Events!A1:V1000\",\n",
    "                       col_names=TRUE) %>% as_tibble() %>% mutate(week_begin_date=as_date(week_begin_date))"
   ]
  },
  {
   "cell_type": "code",
   "execution_count": 8,
   "id": "405a4948-a26a-46d0-8920-510778c21cbe",
   "metadata": {},
   "outputs": [
    {
     "data": {
      "text/html": [
       "<table class=\"dataframe\">\n",
       "<caption>A tibble: 6 × 2</caption>\n",
       "<thead>\n",
       "\t<tr><th scope=col>week_begin_date</th><th scope=col>total_weekly_spend</th></tr>\n",
       "\t<tr><th scope=col>&lt;date&gt;</th><th scope=col>&lt;dbl&gt;</th></tr>\n",
       "</thead>\n",
       "<tbody>\n",
       "\t<tr><td>2021-12-27</td><td>2996667</td></tr>\n",
       "\t<tr><td>2022-01-03</td><td>2590000</td></tr>\n",
       "\t<tr><td>2022-01-10</td><td>2490000</td></tr>\n",
       "\t<tr><td>2022-01-17</td><td>2490000</td></tr>\n",
       "\t<tr><td>2022-01-24</td><td>2490000</td></tr>\n",
       "\t<tr><td>2022-01-31</td><td>2490000</td></tr>\n",
       "</tbody>\n",
       "</table>\n"
      ],
      "text/latex": [
       "A tibble: 6 × 2\n",
       "\\begin{tabular}{ll}\n",
       " week\\_begin\\_date & total\\_weekly\\_spend\\\\\n",
       " <date> & <dbl>\\\\\n",
       "\\hline\n",
       "\t 2021-12-27 & 2996667\\\\\n",
       "\t 2022-01-03 & 2590000\\\\\n",
       "\t 2022-01-10 & 2490000\\\\\n",
       "\t 2022-01-17 & 2490000\\\\\n",
       "\t 2022-01-24 & 2490000\\\\\n",
       "\t 2022-01-31 & 2490000\\\\\n",
       "\\end{tabular}\n"
      ],
      "text/markdown": [
       "\n",
       "A tibble: 6 × 2\n",
       "\n",
       "| week_begin_date &lt;date&gt; | total_weekly_spend &lt;dbl&gt; |\n",
       "|---|---|\n",
       "| 2021-12-27 | 2996667 |\n",
       "| 2022-01-03 | 2590000 |\n",
       "| 2022-01-10 | 2490000 |\n",
       "| 2022-01-17 | 2490000 |\n",
       "| 2022-01-24 | 2490000 |\n",
       "| 2022-01-31 | 2490000 |\n",
       "\n"
      ],
      "text/plain": [
       "  week_begin_date total_weekly_spend\n",
       "1 2021-12-27      2996667           \n",
       "2 2022-01-03      2590000           \n",
       "3 2022-01-10      2490000           \n",
       "4 2022-01-17      2490000           \n",
       "5 2022-01-24      2490000           \n",
       "6 2022-01-31      2490000           "
      ]
     },
     "metadata": {},
     "output_type": "display_data"
    }
   ],
   "source": [
    "tail(df_spend)"
   ]
  },
  {
   "cell_type": "code",
   "execution_count": 9,
   "id": "a47c9247-905f-4d0a-951e-47fa14ba5ba1",
   "metadata": {},
   "outputs": [],
   "source": [
    "write.csv(df_spend,\"./data/ad_spend.csv\", row.names = FALSE)"
   ]
  },
  {
   "cell_type": "code",
   "execution_count": 10,
   "id": "ff2547d2-861e-47bf-b63c-7104e2d597f0",
   "metadata": {},
   "outputs": [],
   "source": [
    "write.csv(df_event,\"./data/marketing_events.csv\", row.names = FALSE)"
   ]
  },
  {
   "cell_type": "code",
   "execution_count": null,
   "id": "80cb6aa8-6eb7-407e-b95a-6e61a5f48ea0",
   "metadata": {},
   "outputs": [],
   "source": []
  },
  {
   "cell_type": "markdown",
   "id": "9320a02c-57fe-44e5-8afc-c11ed9de4ac2",
   "metadata": {},
   "source": []
  }
 ],
 "metadata": {
  "kernelspec": {
   "display_name": "R",
   "language": "R",
   "name": "ir"
  },
  "language_info": {
   "codemirror_mode": "r",
   "file_extension": ".r",
   "mimetype": "text/x-r-source",
   "name": "R",
   "pygments_lexer": "r",
   "version": "4.0.4"
  }
 },
 "nbformat": 4,
 "nbformat_minor": 5
}
